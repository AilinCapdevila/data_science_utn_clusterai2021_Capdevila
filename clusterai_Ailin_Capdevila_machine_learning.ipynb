{
 "cells": [
  {
   "cell_type": "code",
   "execution_count": null,
   "id": "778ba535",
   "metadata": {},
   "outputs": [],
   "source": [
    "Un archivo jupyter notebook con la aplicación de modelos de machine learning\n",
    "(“clusterai_nombre_apellido_machine_learning.ipynb”)"
   ]
  }
 ],
 "metadata": {
  "kernelspec": {
   "display_name": "Python 3",
   "language": "python",
   "name": "python3"
  },
  "language_info": {
   "codemirror_mode": {
    "name": "ipython",
    "version": 3
   },
   "file_extension": ".py",
   "mimetype": "text/x-python",
   "name": "python",
   "nbconvert_exporter": "python",
   "pygments_lexer": "ipython3",
   "version": "3.8.8"
  }
 },
 "nbformat": 4,
 "nbformat_minor": 5
}
